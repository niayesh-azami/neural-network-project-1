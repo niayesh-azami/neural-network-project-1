{
 "cells": [
  {
   "cell_type": "code",
   "execution_count": 3,
   "id": "e04d6f46-242c-4403-acbc-80592fbc783c",
   "metadata": {},
   "outputs": [],
   "source": [
    "from tensorflow.keras import layers, regularizers, optimizers\n",
    "from tensorflow.keras.callbacks import ReduceLROnPlateau, EarlyStopping\n",
    "from imblearn.over_sampling import SMOTE"
   ]
  },
  {
   "cell_type": "code",
   "execution_count": 2,
   "id": "caa6453e-ed30-4732-9717-9a6adb0b4fdf",
   "metadata": {},
   "outputs": [],
   "source": [
    "CONFIG = {\n",
    "    \"data\": {\n",
    "        \"resampling\": {\n",
    "            \"method\": \"SMOTE\",\n",
    "            \"random_state\": 42\n",
    "        },\n",
    "        \"batch_size\": 16\n",
    "    },\n",
    "    \"model\": {\n",
    "        \"input_shape\": None,  # Will be set dynamically\n",
    "        \"layers\": [\n",
    "            {\"type\": \"Dense\", \"units\": 64, \"activation\": \"relu\"},\n",
    "            {\"type\": \"Dropout\", \"rate\": 0.5},\n",
    "            {\"type\": \"Dense\", \"units\": 32, \"activation\": \"relu\"},\n",
    "            {\"type\": \"Dropout\", \"rate\": 0.5},\n",
    "            {\n",
    "                \"type\": \"Dense\", \n",
    "                \"units\": 16, \n",
    "                \"activation\": \"relu\",\n",
    "                \"kernel_regularizer\": regularizers.l1_l2(l1=0.001, l2=0.001)\n",
    "            },\n",
    "            {\"type\": \"Dropout\", \"rate\": 0.5},\n",
    "            {\"type\": \"Dense\", \"units\": 1, \"activation\": \"sigmoid\"}\n",
    "        ]\n",
    "    },\n",
    "    \"training\": {\n",
    "        \"optimizer\": {\n",
    "            \"type\": \"Adam\",\n",
    "            \"learning_rate\": 0.0001\n",
    "        },\n",
    "        \"loss\": \"binary_crossentropy\",\n",
    "        \"metrics\": [\"accuracy\", \"recall\"],\n",
    "        \"epochs\": 10,\n",
    "        \"batch_size\": 16,\n",
    "        \"callbacks\": {\n",
    "            \"reduce_lr_on_plateau\": {\n",
    "                \"monitor\": \"val_loss\",\n",
    "                \"factor\": 0.5,\n",
    "                \"patience\": 2,\n",
    "                \"min_lr\": 1e-7\n",
    "            },\n",
    "            \"early_stopping\": {\n",
    "                \"monitor\": \"val_loss\",\n",
    "                \"patience\": 5,\n",
    "                \"restore_best_weights\": True\n",
    "            }\n",
    "        }\n",
    "    }\n",
    "}"
   ]
  }
 ],
 "metadata": {
  "kernelspec": {
   "display_name": "Python 3 (ipykernel)",
   "language": "python",
   "name": "python3"
  },
  "language_info": {
   "codemirror_mode": {
    "name": "ipython",
    "version": 3
   },
   "file_extension": ".py",
   "mimetype": "text/x-python",
   "name": "python",
   "nbconvert_exporter": "python",
   "pygments_lexer": "ipython3",
   "version": "3.12.4"
  }
 },
 "nbformat": 4,
 "nbformat_minor": 5
}
