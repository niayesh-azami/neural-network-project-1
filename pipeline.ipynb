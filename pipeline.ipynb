{
 "cells": [
  {
   "cell_type": "code",
   "execution_count": 1,
   "id": "9ad89876-2d5e-4bf7-9c50-4d1d8684affc",
   "metadata": {},
   "outputs": [],
   "source": [
    "import tensorflow as tf\n",
    "from tensorflow.keras import layers, regularizers, callbacks\n",
    "from imblearn.over_sampling import SMOTE\n",
    "import matplotlib.pyplot as plt\n",
    "from sklearn.model_selection import train_test_split"
   ]
  },
  {
   "cell_type": "markdown",
   "id": "376f2cd3-51f6-4fe5-b569-88c9fac65e15",
   "metadata": {},
   "source": [
    "# Data Preprocesing"
   ]
  },
  {
   "cell_type": "code",
   "execution_count": 2,
   "id": "b1b8a06a-bc62-42e8-9dfa-8d2b9518b9a8",
   "metadata": {},
   "outputs": [],
   "source": [
    "def preprocess_data(x_train, y_train, config):\n",
    "    x_train, x_valid, y_train, y_valid = train_test_split(x_resampled, y_resampled, test_size=0.2, random_state=42)\n",
    "    smote = SMOTE(random_state=config['data'] ['resampling']['random_state'])\n",
    "    x_resampled, y_resampled = smote.fit_resample(x_train, y_train)\n",
    "    return x_train, x_valid, y_train, y_valid"
   ]
  },
  {
   "cell_type": "markdown",
   "id": "fa24f54a-6e5b-4208-bd42-4f293f1f2da7",
   "metadata": {},
   "source": [
    "# Model Building"
   ]
  },
  {
   "cell_type": "code",
   "execution_count": 3,
   "id": "bd848c99-f27f-45ca-9b8c-f2f5e4767364",
   "metadata": {},
   "outputs": [],
   "source": [
    "def build_model(config):\n",
    "    input_shape = [config['model']['input_shape']]\n",
    "    model = tf.keras.Sequential()\n",
    "    for layer in config['model']['layers']:\n",
    "        if layer['type'] == 'Dense':\n",
    "            model.add(layers.Dense(\n",
    "                units=layer['units'], \n",
    "                activation=layer['activation'], \n",
    "                kernel_regularizer=layer.get('kernel_regularizer')\n",
    "            ))\n",
    "        elif layer['type'] == 'Dropout':\n",
    "            model.add(layers.Dropout(rate=layer['rate']))\n",
    "    model.summary()\n",
    "    return model"
   ]
  },
  {
   "cell_type": "markdown",
   "id": "021dc4a3-2110-44b5-b086-450ba3043073",
   "metadata": {},
   "source": [
    "# Compile Model"
   ]
  },
  {
   "cell_type": "code",
   "execution_count": 4,
   "id": "9b4e7edd-1c12-45fb-8de8-b1316368d3ef",
   "metadata": {},
   "outputs": [],
   "source": [
    "def compile_model(model, config):\n",
    "    optimizer_config = config['training']['optimizer']\n",
    "    optimizer = tf.keras.optimizers.Adam(learning_rate=optimizer_config['learning_rate'])\n",
    "    model.compile(\n",
    "        optimizer=optimizer,\n",
    "        loss=config['training']['loss'],\n",
    "        metrics=config['training']['metrics']\n",
    "    )"
   ]
  },
  {
   "cell_type": "markdown",
   "id": "99218d34-6b7a-4251-adb6-38c1cd56f62a",
   "metadata": {},
   "source": [
    "# Callbacks"
   ]
  },
  {
   "cell_type": "code",
   "execution_count": 5,
   "id": "b3080e66-3028-4293-b726-a72d212cbc84",
   "metadata": {},
   "outputs": [],
   "source": [
    "def setup_callbacks(config):\n",
    "    lr_scheduler = callbacks.ReduceLROnPlateau(**config['training']['callbacks']['reduce_lr_on_plateau'])\n",
    "    early_stopping = callbacks.EarlyStopping(**config['training']['callbacks']['early_stopping'])\n",
    "    return [lr_scheduler, early_stopping]"
   ]
  },
  {
   "cell_type": "markdown",
   "id": "561a7cb5-ca8c-461f-b23e-0ba5b36415e9",
   "metadata": {},
   "source": [
    "# Training"
   ]
  },
  {
   "cell_type": "code",
   "execution_count": 6,
   "id": "bdbceabc-b766-4f9c-b46c-e524cb3a23c6",
   "metadata": {},
   "outputs": [],
   "source": [
    "def train_model(model, x_train, y_train, x_valid, y_valid, config, callbacks_list):\n",
    "    history = model.fit(\n",
    "        x_train, y_train,\n",
    "        validation_data=(x_valid, y_valid),\n",
    "        batch_size=config['training']['batch_size'],\n",
    "        epochs=config['training']['epochs'],\n",
    "        callbacks=callbacks_list\n",
    "    )\n",
    "    return history"
   ]
  },
  {
   "cell_type": "markdown",
   "id": "46314ea4-7141-4926-b119-775a39b473ed",
   "metadata": {},
   "source": [
    "# Evaluation "
   ]
  },
  {
   "cell_type": "code",
   "execution_count": 7,
   "id": "d4f823f0-34ca-4083-b86e-e356db5e13fd",
   "metadata": {},
   "outputs": [],
   "source": [
    "def plot_training_history(history):\n",
    "    plt.figure(figsize=(12, 4))\n",
    "    plt.subplot(1, 2, 1)\n",
    "    plt.plot(history.history['loss'], label='Training Loss')\n",
    "    plt.plot(history.history['val_loss'], label='Validation Loss')\n",
    "    plt.title('Loss')\n",
    "    plt.xlabel('Epochs')\n",
    "    plt.ylabel('Loss')\n",
    "    plt.legend()\n",
    "    \n",
    "    plt.subplot(1, 2, 2)\n",
    "    plt.plot(history.history['accuracy'], label='Training Accuracy')\n",
    "    plt.plot(history.history['val_accuracy'], label='Validation Accuracy')\n",
    "    plt.title('Accuracy')\n",
    "    plt.xlabel('Epochs')\n",
    "    plt.ylabel('Accuracy')\n",
    "    plt.legend()\n",
    "    plt.show()"
   ]
  },
  {
   "cell_type": "markdown",
   "id": "ebbf5887-5bfc-4303-b415-b3d937ccf9b4",
   "metadata": {},
   "source": [
    "# Running The Pipeline"
   ]
  },
  {
   "cell_type": "code",
   "execution_count": 9,
   "id": "30830488-9c72-49c6-85b8-20d6ee360702",
   "metadata": {},
   "outputs": [
    {
     "ename": "NameError",
     "evalue": "name 'x_train' is not defined",
     "output_type": "error",
     "traceback": [
      "\u001b[1;31m---------------------------------------------------------------------------\u001b[0m",
      "\u001b[1;31mNameError\u001b[0m                                 Traceback (most recent call last)",
      "Cell \u001b[1;32mIn[9], line 1\u001b[0m\n\u001b[1;32m----> 1\u001b[0m x_train, x_valid, y_train, y_valid \u001b[38;5;241m=\u001b[39m preprocess_data(\u001b[43mx_train\u001b[49m, y_train, CONFIG)\n\u001b[0;32m      3\u001b[0m model \u001b[38;5;241m=\u001b[39m build_model(CONFIG)\n\u001b[0;32m      5\u001b[0m compile_model(model, CONFIG)\n",
      "\u001b[1;31mNameError\u001b[0m: name 'x_train' is not defined"
     ]
    }
   ],
   "source": [
    "x_train, x_valid, y_train, y_valid = preprocess_data(x_train, y_train, CONFIG)\n",
    "\n",
    "model = build_model(CONFIG)\n",
    "\n",
    "compile_model(model, CONFIG)\n",
    "\n",
    "callbacks_list = setup_callbacks(CONFIG)\n",
    "\n",
    "history = train_model(model, x_train, y_train, x_valid, y_valid, CONFIG, callbacks_list)\n",
    "\n",
    "plot_training_history(history)"
   ]
  }
 ],
 "metadata": {
  "kernelspec": {
   "display_name": "Python 3 (ipykernel)",
   "language": "python",
   "name": "python3"
  },
  "language_info": {
   "codemirror_mode": {
    "name": "ipython",
    "version": 3
   },
   "file_extension": ".py",
   "mimetype": "text/x-python",
   "name": "python",
   "nbconvert_exporter": "python",
   "pygments_lexer": "ipython3",
   "version": "3.12.4"
  }
 },
 "nbformat": 4,
 "nbformat_minor": 5
}
